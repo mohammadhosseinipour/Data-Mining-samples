{
 "cells": [
  {
   "cell_type": "code",
   "execution_count": 78,
   "metadata": {},
   "outputs": [],
   "source": [
    "import numpy as np\n",
    "import pandas as pd\n",
    "import matplotlib.pyplot as plt\n",
    "import statistics \n",
    "from collections import Counter\n",
    "from sklearn.impute import SimpleImputer\n",
    "import sklearn.preprocessing as sk\n",
    "from scipy.stats import zscore\n",
    "import jenkspy"
   ]
  },
  {
   "cell_type": "markdown",
   "metadata": {},
   "source": [
    "# Q1 have been submitted before"
   ]
  },
  {
   "cell_type": "code",
   "execution_count": 2,
   "metadata": {},
   "outputs": [
    {
     "data": {
      "text/html": [
       "<div>\n",
       "<style scoped>\n",
       "    .dataframe tbody tr th:only-of-type {\n",
       "        vertical-align: middle;\n",
       "    }\n",
       "\n",
       "    .dataframe tbody tr th {\n",
       "        vertical-align: top;\n",
       "    }\n",
       "\n",
       "    .dataframe thead th {\n",
       "        text-align: right;\n",
       "    }\n",
       "</style>\n",
       "<table border=\"1\" class=\"dataframe\">\n",
       "  <thead>\n",
       "    <tr style=\"text-align: right;\">\n",
       "      <th></th>\n",
       "      <th>Pregnancies</th>\n",
       "      <th>Glucose</th>\n",
       "      <th>BloodPressure</th>\n",
       "      <th>SkinThickness</th>\n",
       "      <th>Insulin</th>\n",
       "      <th>BMI</th>\n",
       "      <th>DiabetesPedigreeFunction</th>\n",
       "      <th>Age</th>\n",
       "      <th>Outcome</th>\n",
       "    </tr>\n",
       "  </thead>\n",
       "  <tbody>\n",
       "    <tr>\n",
       "      <th>0</th>\n",
       "      <td>6</td>\n",
       "      <td>148</td>\n",
       "      <td>72.0</td>\n",
       "      <td>35</td>\n",
       "      <td>0</td>\n",
       "      <td>33.6</td>\n",
       "      <td>0.627</td>\n",
       "      <td>50</td>\n",
       "      <td>1</td>\n",
       "    </tr>\n",
       "    <tr>\n",
       "      <th>1</th>\n",
       "      <td>1</td>\n",
       "      <td>85</td>\n",
       "      <td>66.0</td>\n",
       "      <td>29</td>\n",
       "      <td>0</td>\n",
       "      <td>26.6</td>\n",
       "      <td>0.351</td>\n",
       "      <td>31</td>\n",
       "      <td>0</td>\n",
       "    </tr>\n",
       "    <tr>\n",
       "      <th>2</th>\n",
       "      <td>8</td>\n",
       "      <td>183</td>\n",
       "      <td>64.0</td>\n",
       "      <td>0</td>\n",
       "      <td>0</td>\n",
       "      <td>23.3</td>\n",
       "      <td>0.672</td>\n",
       "      <td>32</td>\n",
       "      <td>1</td>\n",
       "    </tr>\n",
       "    <tr>\n",
       "      <th>3</th>\n",
       "      <td>1</td>\n",
       "      <td>89</td>\n",
       "      <td>66.0</td>\n",
       "      <td>23</td>\n",
       "      <td>94</td>\n",
       "      <td>28.1</td>\n",
       "      <td>0.167</td>\n",
       "      <td>21</td>\n",
       "      <td>0</td>\n",
       "    </tr>\n",
       "    <tr>\n",
       "      <th>4</th>\n",
       "      <td>0</td>\n",
       "      <td>137</td>\n",
       "      <td>40.0</td>\n",
       "      <td>35</td>\n",
       "      <td>168</td>\n",
       "      <td>43.1</td>\n",
       "      <td>2.288</td>\n",
       "      <td>33</td>\n",
       "      <td>1</td>\n",
       "    </tr>\n",
       "    <tr>\n",
       "      <th>...</th>\n",
       "      <td>...</td>\n",
       "      <td>...</td>\n",
       "      <td>...</td>\n",
       "      <td>...</td>\n",
       "      <td>...</td>\n",
       "      <td>...</td>\n",
       "      <td>...</td>\n",
       "      <td>...</td>\n",
       "      <td>...</td>\n",
       "    </tr>\n",
       "    <tr>\n",
       "      <th>497</th>\n",
       "      <td>2</td>\n",
       "      <td>81</td>\n",
       "      <td>72.0</td>\n",
       "      <td>15</td>\n",
       "      <td>76</td>\n",
       "      <td>30.1</td>\n",
       "      <td>0.547</td>\n",
       "      <td>25</td>\n",
       "      <td>0</td>\n",
       "    </tr>\n",
       "    <tr>\n",
       "      <th>498</th>\n",
       "      <td>7</td>\n",
       "      <td>195</td>\n",
       "      <td>70.0</td>\n",
       "      <td>33</td>\n",
       "      <td>145</td>\n",
       "      <td>25.1</td>\n",
       "      <td>0.163</td>\n",
       "      <td>55</td>\n",
       "      <td>1</td>\n",
       "    </tr>\n",
       "    <tr>\n",
       "      <th>499</th>\n",
       "      <td>6</td>\n",
       "      <td>154</td>\n",
       "      <td>74.0</td>\n",
       "      <td>32</td>\n",
       "      <td>193</td>\n",
       "      <td>29.3</td>\n",
       "      <td>0.839</td>\n",
       "      <td>39</td>\n",
       "      <td>0</td>\n",
       "    </tr>\n",
       "    <tr>\n",
       "      <th>500</th>\n",
       "      <td>2</td>\n",
       "      <td>117</td>\n",
       "      <td>90.0</td>\n",
       "      <td>19</td>\n",
       "      <td>71</td>\n",
       "      <td>25.2</td>\n",
       "      <td>0.313</td>\n",
       "      <td>21</td>\n",
       "      <td>0</td>\n",
       "    </tr>\n",
       "    <tr>\n",
       "      <th>501</th>\n",
       "      <td>3</td>\n",
       "      <td>84</td>\n",
       "      <td>72.0</td>\n",
       "      <td>32</td>\n",
       "      <td>0</td>\n",
       "      <td>37.2</td>\n",
       "      <td>0.267</td>\n",
       "      <td>28</td>\n",
       "      <td>0</td>\n",
       "    </tr>\n",
       "  </tbody>\n",
       "</table>\n",
       "<p>502 rows × 9 columns</p>\n",
       "</div>"
      ],
      "text/plain": [
       "     Pregnancies Glucose  BloodPressure SkinThickness Insulin   BMI  \\\n",
       "0              6     148           72.0            35       0  33.6   \n",
       "1              1      85           66.0            29       0  26.6   \n",
       "2              8     183           64.0             0       0  23.3   \n",
       "3              1      89           66.0            23      94  28.1   \n",
       "4              0     137           40.0            35     168  43.1   \n",
       "..           ...     ...            ...           ...     ...   ...   \n",
       "497            2      81           72.0            15      76  30.1   \n",
       "498            7     195           70.0            33     145  25.1   \n",
       "499            6     154           74.0            32     193  29.3   \n",
       "500            2     117           90.0            19      71  25.2   \n",
       "501            3      84           72.0            32       0  37.2   \n",
       "\n",
       "    DiabetesPedigreeFunction Age Outcome  \n",
       "0                      0.627  50       1  \n",
       "1                      0.351  31       0  \n",
       "2                      0.672  32       1  \n",
       "3                      0.167  21       0  \n",
       "4                      2.288  33       1  \n",
       "..                       ...  ..     ...  \n",
       "497                    0.547  25       0  \n",
       "498                    0.163  55       1  \n",
       "499                    0.839  39       0  \n",
       "500                    0.313  21       0  \n",
       "501                    0.267  28       0  \n",
       "\n",
       "[502 rows x 9 columns]"
      ]
     },
     "execution_count": 2,
     "metadata": {},
     "output_type": "execute_result"
    }
   ],
   "source": [
    "diabetes=pd.read_csv('Diabetes.csv')\n",
    "diabetes"
   ]
  },
  {
   "cell_type": "markdown",
   "metadata": {},
   "source": [
    "## Q2"
   ]
  },
  {
   "cell_type": "code",
   "execution_count": 3,
   "metadata": {},
   "outputs": [
    {
     "data": {
      "text/plain": [
       "<matplotlib.axes._subplots.AxesSubplot at 0x20f65da6c88>"
      ]
     },
     "execution_count": 3,
     "metadata": {},
     "output_type": "execute_result"
    },
    {
     "data": {
      "image/png": "[encoded data removed]",
      "text/plain": [
       "<Figure size 432x288 with 1 Axes>"
      ]
     },
     "metadata": {
      "needs_background": "light"
     },
     "output_type": "display_data"
    }
   ],
   "source": [
    "ser1 = diabetes['Pregnancies']\n",
    "ser1.plot(kind='hist', stacked = True)"
   ]
  },
  {
   "cell_type": "markdown",
   "metadata": {},
   "source": [
    "seems there is no missing data."
   ]
  },
  {
   "cell_type": "code",
   "execution_count": 4,
   "metadata": {
    "scrolled": true
   },
   "outputs": [
    {
     "name": "stdout",
     "output_type": "stream",
     "text": [
      "sum of Zeros:\n",
      " 4 \n",
      "sum of MISSES:\n",
      " 3\n"
     ]
    }
   ],
   "source": [
    "ser2 = diabetes['Glucose']\n",
    "#pd.to_numeric(ser2).plot(kind='hist', stacked = True) \n",
    "ser2.eq(\"0\").sum()\n",
    "ser2.eq(\"\\'\\'\").sum()\n",
    "ser2.eq(\"MISS\").sum()\n",
    "ser2.eq(\"?\").sum()\n",
    "print('sum of Zeros:\\n',ser2.eq(\"0\").sum(),\"\\nsum of MISSES:\\n\",ser2.eq(\"MISS\").sum()+ser2.eq(\"?\").sum()+ser2.eq(\"\\'\\'\").sum())"
   ]
  },
  {
   "cell_type": "markdown",
   "metadata": {},
   "source": [
    "glucose cant be zero so it got to be missing data.\n",
    "\n",
    "while i wanted to run this code i got a error then i found out there is a missing data \n",
    "\n",
    "pd.to_numeric(ser2).plot(kind='hist', stacked = True) "
   ]
  },
  {
   "cell_type": "code",
   "execution_count": 5,
   "metadata": {},
   "outputs": [
    {
     "name": "stdout",
     "output_type": "stream",
     "text": [
      "sum of Zeros:\n",
      " 24\n"
     ]
    },
    {
     "data": {
      "image/png": "[encoded data removed]",
      "text/plain": [
       "<Figure size 432x288 with 1 Axes>"
      ]
     },
     "metadata": {
      "needs_background": "light"
     },
     "output_type": "display_data"
    }
   ],
   "source": [
    "ser2 = diabetes['BloodPressure']\n",
    "pd.to_numeric(ser2).plot(kind='hist', stacked = True) \n",
    "# ser2.eq(\"0\").sum()\n",
    "# ser2.eq(\"\\'\\'\").sum()\n",
    "# ser2.eq(\"MISS\").sum()\n",
    "# ser2.eq(\"?\").sum()\n",
    "print('sum of Zeros:\\n',ser2.eq(0).sum())"
   ]
  },
  {
   "cell_type": "markdown",
   "metadata": {},
   "source": [
    "blood pressure cant be zero so it got to be missing data."
   ]
  },
  {
   "cell_type": "code",
   "execution_count": 6,
   "metadata": {},
   "outputs": [
    {
     "name": "stdout",
     "output_type": "stream",
     "text": [
      "sum of Zeros:\n",
      " 142 \n",
      "sum of MISSES:\n",
      " 4\n"
     ]
    }
   ],
   "source": [
    "ser2 = diabetes['SkinThickness']\n",
    "#pd.to_numeric(ser2).plot(kind='hist', stacked = True) \\\n",
    "ser2.eq(\"0\").sum()\n",
    "ser2.eq(\"\\'\\'\").sum()\n",
    "ser2.eq(\"MISS\").sum()\n",
    "ser2.eq(\"?\").sum()\n",
    "print('sum of Zeros:\\n',ser2.eq(\"0\").sum(),\"\\nsum of MISSES:\\n\",ser2.eq(\"MISS\").sum()+ser2.eq(\"\\'\\'\").sum()+ser2.eq(\"?\").sum())\n"
   ]
  },
  {
   "cell_type": "markdown",
   "metadata": {},
   "source": [
    "SkinThickness cant be zero so it got to be missing data.\n",
    "\n",
    "while i wanted to run this code i got a error then i found out there is a missing data \n",
    "\n",
    "pd.to_numeric(ser2).plot(kind='hist', stacked = True) \n",
    "\n",
    "same stategy goes for others as well:"
   ]
  },
  {
   "cell_type": "code",
   "execution_count": 7,
   "metadata": {},
   "outputs": [
    {
     "name": "stdout",
     "output_type": "stream",
     "text": [
      "sum of Zeros:\n",
      " 239 \n",
      "sum of MISSES:\n",
      " 2\n"
     ]
    }
   ],
   "source": [
    "ser2 = diabetes['Insulin']\n",
    "# pd.to_numeric(ser2).plot(kind='hist', stacked = True) \n",
    "ser2.eq(\"0\").sum()\n",
    "ser2.eq(\"\\'\\'\").sum()\n",
    "# ser2.eq(\"MISS\").sum()\n",
    "ser2.eq(\"?\").sum()\n",
    "print('sum of Zeros:\\n',ser2.eq(\"0\").sum(),\"\\nsum of MISSES:\\n\",ser2.eq(\"MISS\").sum()+ser2.eq(\"\\'\\'\").sum()+ser2.eq(\"?\").sum())"
   ]
  },
  {
   "cell_type": "code",
   "execution_count": 8,
   "metadata": {},
   "outputs": [
    {
     "name": "stdout",
     "output_type": "stream",
     "text": [
      "sum of Zeros:\n",
      " 0 \n",
      "sum of MISSES:\n",
      " 1\n"
     ]
    }
   ],
   "source": [
    "ser2 = diabetes['BMI']\n",
    "# pd.to_numeric(ser2).plot(kind='hist', stacked = True) \n",
    "# ser2.eq(\"0\").sum()\n",
    "# ser2.eq(\"\\'\\'\").sum()\n",
    "ser2.eq(\"MISS\").sum()\n",
    "# ser2.eq(\"?\").sum()\n",
    "print('sum of Zeros:\\n',ser2.eq(\"0\").sum(),\"\\nsum of MISSES:\\n\",ser2.eq(\"MISS\").sum()+ser2.eq(\"\\'\\'\").sum())"
   ]
  },
  {
   "cell_type": "code",
   "execution_count": 9,
   "metadata": {},
   "outputs": [
    {
     "name": "stdout",
     "output_type": "stream",
     "text": [
      "sum of Zeros:\n",
      " 0 \n",
      "sum of MISSES:\n",
      " 1\n"
     ]
    }
   ],
   "source": [
    "ser2 = diabetes['DiabetesPedigreeFunction']\n",
    "# pd.to_numeric(ser2).plot(kind='hist', stacked = True) \n",
    "# ser2.eq(\"0\").sum()\n",
    "# ser2.eq(\"\\'\\'\").sum()\n",
    "ser2.eq(\"MISS\").sum()\n",
    "# ser2.eq(\"?\").sum()\n",
    "print('sum of Zeros:\\n',ser2.eq(\"0\").sum(),\"\\nsum of MISSES:\\n\",ser2.eq(\"MISS\").sum()+ser2.eq(\"\\'\\'\").sum())"
   ]
  },
  {
   "cell_type": "code",
   "execution_count": 10,
   "metadata": {},
   "outputs": [
    {
     "name": "stdout",
     "output_type": "stream",
     "text": [
      "sum of Zeros:\n",
      " 0 \n",
      "sum of MISSES:\n",
      " 1\n"
     ]
    }
   ],
   "source": [
    "ser2 = diabetes['Age']\n",
    "# pd.to_numeric(ser2).plot(kind='hist', stacked = True) \n",
    "# ser2.eq(\"0\").sum()\n",
    "# ser2.eq(\"\\'\\'\").sum()\n",
    "# ser2.eq(\"MISS\").sum()\n",
    "ser2.eq(\"?\").sum()\n",
    "print('sum of Zeros:\\n',ser2.eq(\"0\").sum(),\"\\nsum of MISSES:\\n\",ser2.eq(\"MISS\").sum()+ser2.eq(\"\\'\\'\").sum()+ser2.eq(\"?\").sum())"
   ]
  },
  {
   "cell_type": "code",
   "execution_count": 11,
   "metadata": {},
   "outputs": [
    {
     "name": "stdout",
     "output_type": "stream",
     "text": [
      "\n",
      "sum of MISSES:\n",
      " 4\n"
     ]
    }
   ],
   "source": [
    "ser2 = diabetes['Outcome']\n",
    "# pd.to_numeric(ser2).plot(kind='hist', stacked = True) \n",
    "# ser2.eq(\"0\").sum()\n",
    "ser2.eq(\"\\'\\'\").sum()\n",
    "ser2.eq(\"MISS\").sum()\n",
    "# ser2.eq(\"?\").sum()\n",
    "print(\"\\nsum of MISSES:\\n\",ser2.eq(\"MISS\").sum()+ser2.eq(\"\\'\\'\").sum()+ser2.eq(\"?\").sum())"
   ]
  },
  {
   "cell_type": "markdown",
   "metadata": {},
   "source": [
    "# now lets replace them with NaN\n",
    "pregnancies and outcome are allowed to have zeros"
   ]
  },
  {
   "cell_type": "code",
   "execution_count": 12,
   "metadata": {},
   "outputs": [
    {
     "data": {
      "text/html": [
       "<div>\n",
       "<style scoped>\n",
       "    .dataframe tbody tr th:only-of-type {\n",
       "        vertical-align: middle;\n",
       "    }\n",
       "\n",
       "    .dataframe tbody tr th {\n",
       "        vertical-align: top;\n",
       "    }\n",
       "\n",
       "    .dataframe thead th {\n",
       "        text-align: right;\n",
       "    }\n",
       "</style>\n",
       "<table border=\"1\" class=\"dataframe\">\n",
       "  <thead>\n",
       "    <tr style=\"text-align: right;\">\n",
       "      <th></th>\n",
       "      <th>Pregnancies</th>\n",
       "      <th>Glucose</th>\n",
       "      <th>BloodPressure</th>\n",
       "      <th>SkinThickness</th>\n",
       "      <th>Insulin</th>\n",
       "      <th>BMI</th>\n",
       "      <th>DiabetesPedigreeFunction</th>\n",
       "      <th>Age</th>\n",
       "      <th>Outcome</th>\n",
       "    </tr>\n",
       "  </thead>\n",
       "  <tbody>\n",
       "    <tr>\n",
       "      <th>0</th>\n",
       "      <td>6</td>\n",
       "      <td>148.0</td>\n",
       "      <td>72.0</td>\n",
       "      <td>35.0</td>\n",
       "      <td>NaN</td>\n",
       "      <td>33.6</td>\n",
       "      <td>0.627</td>\n",
       "      <td>50.0</td>\n",
       "      <td>1</td>\n",
       "    </tr>\n",
       "    <tr>\n",
       "      <th>1</th>\n",
       "      <td>1</td>\n",
       "      <td>85.0</td>\n",
       "      <td>66.0</td>\n",
       "      <td>29.0</td>\n",
       "      <td>NaN</td>\n",
       "      <td>26.6</td>\n",
       "      <td>0.351</td>\n",
       "      <td>31.0</td>\n",
       "      <td>0</td>\n",
       "    </tr>\n",
       "    <tr>\n",
       "      <th>2</th>\n",
       "      <td>8</td>\n",
       "      <td>183.0</td>\n",
       "      <td>64.0</td>\n",
       "      <td>NaN</td>\n",
       "      <td>NaN</td>\n",
       "      <td>23.3</td>\n",
       "      <td>0.672</td>\n",
       "      <td>32.0</td>\n",
       "      <td>1</td>\n",
       "    </tr>\n",
       "    <tr>\n",
       "      <th>3</th>\n",
       "      <td>1</td>\n",
       "      <td>89.0</td>\n",
       "      <td>66.0</td>\n",
       "      <td>23.0</td>\n",
       "      <td>94.0</td>\n",
       "      <td>28.1</td>\n",
       "      <td>0.167</td>\n",
       "      <td>21.0</td>\n",
       "      <td>0</td>\n",
       "    </tr>\n",
       "    <tr>\n",
       "      <th>4</th>\n",
       "      <td>0</td>\n",
       "      <td>137.0</td>\n",
       "      <td>40.0</td>\n",
       "      <td>35.0</td>\n",
       "      <td>168.0</td>\n",
       "      <td>43.1</td>\n",
       "      <td>2.288</td>\n",
       "      <td>33.0</td>\n",
       "      <td>1</td>\n",
       "    </tr>\n",
       "    <tr>\n",
       "      <th>...</th>\n",
       "      <td>...</td>\n",
       "      <td>...</td>\n",
       "      <td>...</td>\n",
       "      <td>...</td>\n",
       "      <td>...</td>\n",
       "      <td>...</td>\n",
       "      <td>...</td>\n",
       "      <td>...</td>\n",
       "      <td>...</td>\n",
       "    </tr>\n",
       "    <tr>\n",
       "      <th>497</th>\n",
       "      <td>2</td>\n",
       "      <td>81.0</td>\n",
       "      <td>72.0</td>\n",
       "      <td>15.0</td>\n",
       "      <td>76.0</td>\n",
       "      <td>30.1</td>\n",
       "      <td>0.547</td>\n",
       "      <td>25.0</td>\n",
       "      <td>0</td>\n",
       "    </tr>\n",
       "    <tr>\n",
       "      <th>498</th>\n",
       "      <td>7</td>\n",
       "      <td>195.0</td>\n",
       "      <td>70.0</td>\n",
       "      <td>33.0</td>\n",
       "      <td>145.0</td>\n",
       "      <td>25.1</td>\n",
       "      <td>0.163</td>\n",
       "      <td>55.0</td>\n",
       "      <td>1</td>\n",
       "    </tr>\n",
       "    <tr>\n",
       "      <th>499</th>\n",
       "      <td>6</td>\n",
       "      <td>154.0</td>\n",
       "      <td>74.0</td>\n",
       "      <td>32.0</td>\n",
       "      <td>193.0</td>\n",
       "      <td>29.3</td>\n",
       "      <td>0.839</td>\n",
       "      <td>39.0</td>\n",
       "      <td>0</td>\n",
       "    </tr>\n",
       "    <tr>\n",
       "      <th>500</th>\n",
       "      <td>2</td>\n",
       "      <td>117.0</td>\n",
       "      <td>90.0</td>\n",
       "      <td>19.0</td>\n",
       "      <td>71.0</td>\n",
       "      <td>25.2</td>\n",
       "      <td>0.313</td>\n",
       "      <td>21.0</td>\n",
       "      <td>0</td>\n",
       "    </tr>\n",
       "    <tr>\n",
       "      <th>501</th>\n",
       "      <td>3</td>\n",
       "      <td>84.0</td>\n",
       "      <td>72.0</td>\n",
       "      <td>32.0</td>\n",
       "      <td>NaN</td>\n",
       "      <td>37.2</td>\n",
       "      <td>0.267</td>\n",
       "      <td>28.0</td>\n",
       "      <td>0</td>\n",
       "    </tr>\n",
       "  </tbody>\n",
       "</table>\n",
       "<p>502 rows × 9 columns</p>\n",
       "</div>"
      ],
      "text/plain": [
       "     Pregnancies  Glucose  BloodPressure  SkinThickness  Insulin   BMI  \\\n",
       "0              6    148.0           72.0           35.0      NaN  33.6   \n",
       "1              1     85.0           66.0           29.0      NaN  26.6   \n",
       "2              8    183.0           64.0            NaN      NaN  23.3   \n",
       "3              1     89.0           66.0           23.0     94.0  28.1   \n",
       "4              0    137.0           40.0           35.0    168.0  43.1   \n",
       "..           ...      ...            ...            ...      ...   ...   \n",
       "497            2     81.0           72.0           15.0     76.0  30.1   \n",
       "498            7    195.0           70.0           33.0    145.0  25.1   \n",
       "499            6    154.0           74.0           32.0    193.0  29.3   \n",
       "500            2    117.0           90.0           19.0     71.0  25.2   \n",
       "501            3     84.0           72.0           32.0      NaN  37.2   \n",
       "\n",
       "     DiabetesPedigreeFunction   Age Outcome  \n",
       "0                       0.627  50.0       1  \n",
       "1                       0.351  31.0       0  \n",
       "2                       0.672  32.0       1  \n",
       "3                       0.167  21.0       0  \n",
       "4                       2.288  33.0       1  \n",
       "..                        ...   ...     ...  \n",
       "497                     0.547  25.0       0  \n",
       "498                     0.163  55.0       1  \n",
       "499                     0.839  39.0       0  \n",
       "500                     0.313  21.0       0  \n",
       "501                     0.267  28.0       0  \n",
       "\n",
       "[502 rows x 9 columns]"
      ]
     },
     "execution_count": 12,
     "metadata": {},
     "output_type": "execute_result"
    }
   ],
   "source": [
    "dia_01=diabetes.copy()\n",
    "dia_01=dia_01.replace({\"\\'\\'\":np.NaN,\"MISS\":np.NaN,\"?\":np.NaN,\"0\":np.NaN,0:np.NaN})\n",
    "dia_01[\"Pregnancies\"]=diabetes['Pregnancies']\n",
    "dia_01[\"Outcome\"]=diabetes['Outcome']\n",
    "dia_01['Outcome']=dia_01[\"Outcome\"].replace({\"\\'\\'\":np.NaN,\"MISS\":np.NaN,\"?\":np.NaN})\n",
    "dia_01"
   ]
  },
  {
   "cell_type": "code",
   "execution_count": 14,
   "metadata": {},
   "outputs": [
    {
     "data": {
      "image/png": "[encoded data removed]",
      "text/plain": [
       "<Figure size 1080x1080 with 9 Axes>"
      ]
     },
     "metadata": {
      "needs_background": "light"
     },
     "output_type": "display_data"
    }
   ],
   "source": [
    "def plot_seris(dia_01):\n",
    "    fig, axs = plt.subplots(3,3,figsize=(15,15))\n",
    "    fig.suptitle('lets double check')\n",
    "    axs[0,0].hist(dia_01.iloc[:,0])\n",
    "    axs[0,0].set_title(\"Pregnancies\")\n",
    "    axs[0,1].hist(dia_01.iloc[:,1])\n",
    "    axs[0,1].set_title(\"Glucose\")\n",
    "    axs[0,2].hist(dia_01.iloc[:,2])\n",
    "    axs[0,2].set_title(\"BloodPressure\")\n",
    "    axs[1,0].hist(dia_01.iloc[:,3])\n",
    "    axs[1,0].set_title(\"SkinThickness\")\n",
    "    axs[1,1].hist(dia_01.iloc[:,4])\n",
    "    axs[1,1].set_title(\"Insulin\")\n",
    "    axs[1,2].hist(dia_01.iloc[:,5])\n",
    "    axs[1,2].set_title(\"BMI\")\n",
    "    axs[2,0].hist(dia_01.iloc[:,6])\n",
    "    axs[2,0].set_title(\"DiabetesPedigreeFunction\")\n",
    "    axs[2,1].hist(dia_01.iloc[:,7])\n",
    "    axs[2,1].set_title(\"Age\")\n",
    "    axs[2,2].hist(pd.to_numeric(dia_01.iloc[:,8]))\n",
    "    axs[2,2].set_title(\"Outcome\")\n",
    "    plt.show()\n",
    "plot_seris(dia_01)"
   ]
  },
  {
   "cell_type": "markdown",
   "metadata": {},
   "source": [
    "glucose may still have some missing data"
   ]
  },
  {
   "cell_type": "code",
   "execution_count": 15,
   "metadata": {},
   "outputs": [
    {
     "name": "stdout",
     "output_type": "stream",
     "text": [
      "800.0\n"
     ]
    }
   ],
   "source": [
    "print(pd.to_numeric(dia_01.iloc[:,1]).max())"
   ]
  },
  {
   "cell_type": "code",
   "execution_count": 16,
   "metadata": {},
   "outputs": [],
   "source": [
    "dia_01['Glucose']=dia_01[\"Glucose\"].replace({800:np.NaN})\n",
    "dia_01['BMI']=dia_01[\"BMI\"].replace({0:np.NaN})"
   ]
  },
  {
   "cell_type": "code",
   "execution_count": 17,
   "metadata": {},
   "outputs": [
    {
     "data": {
      "image/png": "[encoded data removed]",
      "text/plain": [
       "<Figure size 1080x1080 with 9 Axes>"
      ]
     },
     "metadata": {
      "needs_background": "light"
     },
     "output_type": "display_data"
    },
    {
     "data": {
      "text/plain": [
       "Pregnancies                  0.000\n",
       "Glucose                     12.000\n",
       "BloodPressure               30.000\n",
       "SkinThickness                7.000\n",
       "Insulin                     14.000\n",
       "BMI                         18.200\n",
       "DiabetesPedigreeFunction     0.078\n",
       "Age                          1.000\n",
       "dtype: float64"
      ]
     },
     "execution_count": 17,
     "metadata": {},
     "output_type": "execute_result"
    }
   ],
   "source": [
    "plot_seris(dia_01)\n",
    "dia_01.min()"
   ]
  },
  {
   "cell_type": "markdown",
   "metadata": {},
   "source": [
    "it  seems we found the missing data throughly."
   ]
  },
  {
   "cell_type": "markdown",
   "metadata": {},
   "source": [
    "# Q3:"
   ]
  },
  {
   "cell_type": "markdown",
   "metadata": {},
   "source": [
    "replace with 0"
   ]
  },
  {
   "cell_type": "code",
   "execution_count": 18,
   "metadata": {},
   "outputs": [
    {
     "name": "stdout",
     "output_type": "stream",
     "text": [
      "0      148.0\n",
      "1       85.0\n",
      "2      183.0\n",
      "3       89.0\n",
      "4      137.0\n",
      "       ...  \n",
      "497     81.0\n",
      "498    195.0\n",
      "499    154.0\n",
      "500    117.0\n",
      "501     84.0\n",
      "Name: Glucose, Length: 502, dtype: float64\n"
     ]
    },
    {
     "data": {
      "text/plain": [
       "<matplotlib.axes._subplots.AxesSubplot at 0x20f66dadfc8>"
      ]
     },
     "execution_count": 18,
     "metadata": {},
     "output_type": "execute_result"
    },
    {
     "data": {
      "image/png": "[encoded data removed]",
      "text/plain": [
       "<Figure size 432x288 with 1 Axes>"
      ]
     },
     "metadata": {
      "needs_background": "light"
     },
     "output_type": "display_data"
    }
   ],
   "source": [
    "dia_02=dia_01.replace({np.NaN:0})\n",
    "print(dia_02['Glucose'])\n",
    "ser2 = dia_02['Glucose']\n",
    "pd.to_numeric(ser2).plot(kind='hist', stacked = True) "
   ]
  },
  {
   "cell_type": "markdown",
   "metadata": {},
   "source": [
    "replace with max of each column"
   ]
  },
  {
   "cell_type": "code",
   "execution_count": 19,
   "metadata": {},
   "outputs": [
    {
     "name": "stdout",
     "output_type": "stream",
     "text": [
      "0      148.0\n",
      "1       85.0\n",
      "2      183.0\n",
      "3       89.0\n",
      "4      137.0\n",
      "       ...  \n",
      "497     81.0\n",
      "498    195.0\n",
      "499    154.0\n",
      "500    117.0\n",
      "501     84.0\n",
      "Name: Glucose, Length: 502, dtype: float64\n"
     ]
    },
    {
     "data": {
      "text/plain": [
       "<matplotlib.axes._subplots.AxesSubplot at 0x20f66e01448>"
      ]
     },
     "execution_count": 19,
     "metadata": {},
     "output_type": "execute_result"
    },
    {
     "data": {
      "image/png": "[encoded data removed]",
      "text/plain": [
       "<Figure size 432x288 with 1 Axes>"
      ]
     },
     "metadata": {
      "needs_background": "light"
     },
     "output_type": "display_data"
    }
   ],
   "source": [
    "for s in dia_01:\n",
    "    dia_02[s]=dia_01[s].replace({np.NaN:pd.to_numeric(dia_01[s]).max()})\n",
    "print(dia_02['Glucose'])\n",
    "ser2 = dia_02['Glucose']\n",
    "pd.to_numeric(ser2).plot(kind='hist', stacked = True) "
   ]
  },
  {
   "cell_type": "markdown",
   "metadata": {},
   "source": [
    "replace with mean"
   ]
  },
  {
   "cell_type": "code",
   "execution_count": 20,
   "metadata": {},
   "outputs": [
    {
     "name": "stdout",
     "output_type": "stream",
     "text": [
      "0      148.0\n",
      "1       85.0\n",
      "2      183.0\n",
      "3       89.0\n",
      "4      137.0\n",
      "       ...  \n",
      "497     81.0\n",
      "498    195.0\n",
      "499    154.0\n",
      "500    117.0\n",
      "501     84.0\n",
      "Name: Glucose, Length: 502, dtype: float64\n"
     ]
    },
    {
     "data": {
      "text/plain": [
       "<matplotlib.axes._subplots.AxesSubplot at 0x20f66d3e7c8>"
      ]
     },
     "execution_count": 20,
     "metadata": {},
     "output_type": "execute_result"
    },
    {
     "data": {
      "image/png": "[encoded data removed]",
      "text/plain": [
       "<Figure size 432x288 with 1 Axes>"
      ]
     },
     "metadata": {
      "needs_background": "light"
     },
     "output_type": "display_data"
    }
   ],
   "source": [
    "for s in dia_01:\n",
    "    dia_02[s]=dia_01[s].replace({np.NaN:pd.to_numeric(dia_01[s]).mean()})\n",
    "print(dia_02['Glucose'])\n",
    "ser2 = dia_02['Glucose']\n",
    "pd.to_numeric(ser2).plot(kind='hist', stacked = True) \n"
   ]
  },
  {
   "cell_type": "markdown",
   "metadata": {},
   "source": [
    "replace with mode"
   ]
  },
  {
   "cell_type": "code",
   "execution_count": 22,
   "metadata": {},
   "outputs": [
    {
     "name": "stdout",
     "output_type": "stream",
     "text": [
      "0      148.0\n",
      "1       85.0\n",
      "2      183.0\n",
      "3       89.0\n",
      "4      137.0\n",
      "       ...  \n",
      "497     81.0\n",
      "498    195.0\n",
      "499    154.0\n",
      "500    117.0\n",
      "501     84.0\n",
      "Name: Glucose, Length: 502, dtype: float64\n"
     ]
    },
    {
     "data": {
      "text/plain": [
       "<matplotlib.axes._subplots.AxesSubplot at 0x20f6666a9c8>"
      ]
     },
     "execution_count": 22,
     "metadata": {},
     "output_type": "execute_result"
    },
    {
     "data": {
      "image/png": "[encoded data removed]",
      "text/plain": [
       "<Figure size 432x288 with 1 Axes>"
      ]
     },
     "metadata": {
      "needs_background": "light"
     },
     "output_type": "display_data"
    }
   ],
   "source": [
    "def my_mode(sample):\n",
    "    c = Counter(sample)\n",
    "    return [k for k, v in c.items() if v == c.most_common(1)[0][1]]\n",
    "for s in dia_01:\n",
    "    dia_02[s]=dia_01[s].replace({np.NaN:my_mode(pd.to_numeric(dia_01[s]))[0]})\n",
    "print(dia_02['Glucose'])\n",
    "ser2 = dia_02['Glucose']\n",
    "pd.to_numeric(ser2).plot(kind='hist', stacked = True) "
   ]
  },
  {
   "cell_type": "markdown",
   "metadata": {},
   "source": [
    "to my oppinion its better to replace the NaN values with mean because of following reasons:\n",
    "\n",
    "-if we replace it with a specific constant then the data will have so much dependecies on the costant values and also we  have to try hard to find the best constant value for it\n",
    "\n",
    "-if we change it with a specific data from each column like max it will be similar to the preivious part\n",
    "\n",
    "-think of series with  0 and 1 values and the number of ones is equal to number of zeros+1 , then if we have so many missing data and replace them with one the whole data direction will compromise.\n",
    "\n",
    "-so i think the best way maybe is to replace them with mean."
   ]
  },
  {
   "cell_type": "markdown",
   "metadata": {},
   "source": [
    "## imputation:\n",
    "One type of imputation algorithm is univariate, which imputes values in the i-th feature dimension using only non-missing values in that feature dimension (e.g. impute.SimpleImputer). By contrast, multivariate imputation algorithms use the entire set of available feature dimensions to estimate the missing values (e.g. impute.IterativeImputer).\n",
    "\n",
    "Univariate feature imputation\n",
    "The SimpleImputer class provides basic strategies for imputing missing values. Missing values can be imputed with a provided constant value, or using the statistics (mean, median or most frequent) of each column in which the missing values are located. This class also allows for different missing values encodings.\n",
    "\n",
    " Multivariate feature imputation\n",
    "A more sophisticated approach is to use the IterativeImputer class, which models each feature with missing values as a function of other features, and uses that estimate for imputation. It does so in an iterated round-robin fashion: at each step, a feature column is designated as output y and the other feature columns are treated as inputs X. A regressor is fit on (X, y) for known y. Then, the regressor is used to predict the missing values of y. This is done for each feature in an iterative fashion, and then is repeated for max_iter imputation rounds. The results of the final imputation round are returned.\n",
    "\n",
    "reference:https://scikit-learn.org/stable/modules/impute.html"
   ]
  },
  {
   "cell_type": "code",
   "execution_count": 23,
   "metadata": {},
   "outputs": [
    {
     "name": "stdout",
     "output_type": "stream",
     "text": [
      "[[  6.    148.     72.    ...   0.627  50.      1.   ]\n",
      " [  1.     85.     66.    ...   0.351  31.      0.   ]\n",
      " [  8.    183.     64.    ...   0.672  32.      1.   ]\n",
      " ...\n",
      " [  6.    154.     74.    ...   0.839  39.      0.   ]\n",
      " [  2.    117.     90.    ...   0.313  21.      0.   ]\n",
      " [  3.     84.     72.    ...   0.267  28.      0.   ]]\n"
     ]
    }
   ],
   "source": [
    "imp = SimpleImputer(missing_values=np.nan, strategy='mean')\n",
    "dia_02=dia_01.copy()\n",
    "dia_03=imp.fit_transform(dia_02)\n",
    "print(imp.fit_transform(dia_02))\n"
   ]
  },
  {
   "cell_type": "markdown",
   "metadata": {},
   "source": [
    "# Q4:\n"
   ]
  },
  {
   "cell_type": "markdown",
   "metadata": {},
   "source": [
    "The data normalization (also referred to as data pre-processing) is a basic element of data mining. It means transforming the data, namely converting the source data in to another format that allows processing data effectively. The main purpose of data normalization is to minimize or even exclude duplicated data. This is a very essential and important issue because it is increasingly problematic to keep in data in relational databases, which store identical data in more than one place.\n",
    "\n",
    "The use of data mining normalization has a number of advantages:\n",
    "\n",
    "+the application of data mining algorithms becomes easier\n",
    "+the data mining algorithms get more effective and efficient\n",
    "+the data is converted in to the format that everyone can get their heads around\n",
    "+the data can be extracted from databases faster\n",
    "+it is possible to analyze the data in a specific manner\n",
    "\n",
    "for example AGE has values in [0,100] but salary has values in range [0-100000], some algorithms are sensetive to these ranges and may focus on an attribute with more Extent of range of values. \n",
    "The goal of normalization is to make every datapoint have the same scale so each feature is equally important."
   ]
  },
  {
   "cell_type": "code",
   "execution_count": 24,
   "metadata": {},
   "outputs": [
    {
     "data": {
      "text/plain": [
       "array([[  6.   , 148.   ,  72.   , ...,   0.627,  50.   ,   1.   ],\n",
       "       [  1.   ,  85.   ,  66.   , ...,   0.351,  31.   ,   0.   ],\n",
       "       [  8.   , 183.   ,  64.   , ...,   0.672,  32.   ,   1.   ],\n",
       "       ...,\n",
       "       [  6.   , 154.   ,  74.   , ...,   0.839,  39.   ,   0.   ],\n",
       "       [  2.   , 117.   ,  90.   , ...,   0.313,  21.   ,   0.   ],\n",
       "       [  3.   ,  84.   ,  72.   , ...,   0.267,  28.   ,   0.   ]])"
      ]
     },
     "execution_count": 24,
     "metadata": {},
     "output_type": "execute_result"
    }
   ],
   "source": [
    "dia_03"
   ]
  },
  {
   "cell_type": "code",
   "execution_count": 25,
   "metadata": {},
   "outputs": [
    {
     "data": {
      "text/html": [
       "<div>\n",
       "<style scoped>\n",
       "    .dataframe tbody tr th:only-of-type {\n",
       "        vertical-align: middle;\n",
       "    }\n",
       "\n",
       "    .dataframe tbody tr th {\n",
       "        vertical-align: top;\n",
       "    }\n",
       "\n",
       "    .dataframe thead th {\n",
       "        text-align: right;\n",
       "    }\n",
       "</style>\n",
       "<table border=\"1\" class=\"dataframe\">\n",
       "  <thead>\n",
       "    <tr style=\"text-align: right;\">\n",
       "      <th></th>\n",
       "      <th>Pregnancies</th>\n",
       "      <th>Glucose</th>\n",
       "      <th>BloodPressure</th>\n",
       "      <th>SkinThickness</th>\n",
       "      <th>Insulin</th>\n",
       "      <th>BMI</th>\n",
       "      <th>DiabetesPedigreeFunction</th>\n",
       "      <th>Age</th>\n",
       "      <th>Outcome</th>\n",
       "    </tr>\n",
       "  </thead>\n",
       "  <tbody>\n",
       "    <tr>\n",
       "      <th>0</th>\n",
       "      <td>6.0</td>\n",
       "      <td>148.0</td>\n",
       "      <td>72.0</td>\n",
       "      <td>35.000000</td>\n",
       "      <td>163.513514</td>\n",
       "      <td>33.6</td>\n",
       "      <td>0.627</td>\n",
       "      <td>50.0</td>\n",
       "      <td>1.0</td>\n",
       "    </tr>\n",
       "    <tr>\n",
       "      <th>1</th>\n",
       "      <td>1.0</td>\n",
       "      <td>85.0</td>\n",
       "      <td>66.0</td>\n",
       "      <td>29.000000</td>\n",
       "      <td>163.513514</td>\n",
       "      <td>26.6</td>\n",
       "      <td>0.351</td>\n",
       "      <td>31.0</td>\n",
       "      <td>0.0</td>\n",
       "    </tr>\n",
       "    <tr>\n",
       "      <th>2</th>\n",
       "      <td>8.0</td>\n",
       "      <td>183.0</td>\n",
       "      <td>64.0</td>\n",
       "      <td>28.904494</td>\n",
       "      <td>163.513514</td>\n",
       "      <td>23.3</td>\n",
       "      <td>0.672</td>\n",
       "      <td>32.0</td>\n",
       "      <td>1.0</td>\n",
       "    </tr>\n",
       "    <tr>\n",
       "      <th>3</th>\n",
       "      <td>1.0</td>\n",
       "      <td>89.0</td>\n",
       "      <td>66.0</td>\n",
       "      <td>23.000000</td>\n",
       "      <td>94.000000</td>\n",
       "      <td>28.1</td>\n",
       "      <td>0.167</td>\n",
       "      <td>21.0</td>\n",
       "      <td>0.0</td>\n",
       "    </tr>\n",
       "    <tr>\n",
       "      <th>4</th>\n",
       "      <td>0.0</td>\n",
       "      <td>137.0</td>\n",
       "      <td>40.0</td>\n",
       "      <td>35.000000</td>\n",
       "      <td>168.000000</td>\n",
       "      <td>43.1</td>\n",
       "      <td>2.288</td>\n",
       "      <td>33.0</td>\n",
       "      <td>1.0</td>\n",
       "    </tr>\n",
       "    <tr>\n",
       "      <th>...</th>\n",
       "      <td>...</td>\n",
       "      <td>...</td>\n",
       "      <td>...</td>\n",
       "      <td>...</td>\n",
       "      <td>...</td>\n",
       "      <td>...</td>\n",
       "      <td>...</td>\n",
       "      <td>...</td>\n",
       "      <td>...</td>\n",
       "    </tr>\n",
       "    <tr>\n",
       "      <th>497</th>\n",
       "      <td>2.0</td>\n",
       "      <td>81.0</td>\n",
       "      <td>72.0</td>\n",
       "      <td>15.000000</td>\n",
       "      <td>76.000000</td>\n",
       "      <td>30.1</td>\n",
       "      <td>0.547</td>\n",
       "      <td>25.0</td>\n",
       "      <td>0.0</td>\n",
       "    </tr>\n",
       "    <tr>\n",
       "      <th>498</th>\n",
       "      <td>7.0</td>\n",
       "      <td>195.0</td>\n",
       "      <td>70.0</td>\n",
       "      <td>33.000000</td>\n",
       "      <td>145.000000</td>\n",
       "      <td>25.1</td>\n",
       "      <td>0.163</td>\n",
       "      <td>55.0</td>\n",
       "      <td>1.0</td>\n",
       "    </tr>\n",
       "    <tr>\n",
       "      <th>499</th>\n",
       "      <td>6.0</td>\n",
       "      <td>154.0</td>\n",
       "      <td>74.0</td>\n",
       "      <td>32.000000</td>\n",
       "      <td>193.000000</td>\n",
       "      <td>29.3</td>\n",
       "      <td>0.839</td>\n",
       "      <td>39.0</td>\n",
       "      <td>0.0</td>\n",
       "    </tr>\n",
       "    <tr>\n",
       "      <th>500</th>\n",
       "      <td>2.0</td>\n",
       "      <td>117.0</td>\n",
       "      <td>90.0</td>\n",
       "      <td>19.000000</td>\n",
       "      <td>71.000000</td>\n",
       "      <td>25.2</td>\n",
       "      <td>0.313</td>\n",
       "      <td>21.0</td>\n",
       "      <td>0.0</td>\n",
       "    </tr>\n",
       "    <tr>\n",
       "      <th>501</th>\n",
       "      <td>3.0</td>\n",
       "      <td>84.0</td>\n",
       "      <td>72.0</td>\n",
       "      <td>32.000000</td>\n",
       "      <td>163.513514</td>\n",
       "      <td>37.2</td>\n",
       "      <td>0.267</td>\n",
       "      <td>28.0</td>\n",
       "      <td>0.0</td>\n",
       "    </tr>\n",
       "  </tbody>\n",
       "</table>\n",
       "<p>502 rows × 9 columns</p>\n",
       "</div>"
      ],
      "text/plain": [
       "     Pregnancies  Glucose  BloodPressure  SkinThickness     Insulin   BMI  \\\n",
       "0            6.0    148.0           72.0      35.000000  163.513514  33.6   \n",
       "1            1.0     85.0           66.0      29.000000  163.513514  26.6   \n",
       "2            8.0    183.0           64.0      28.904494  163.513514  23.3   \n",
       "3            1.0     89.0           66.0      23.000000   94.000000  28.1   \n",
       "4            0.0    137.0           40.0      35.000000  168.000000  43.1   \n",
       "..           ...      ...            ...            ...         ...   ...   \n",
       "497          2.0     81.0           72.0      15.000000   76.000000  30.1   \n",
       "498          7.0    195.0           70.0      33.000000  145.000000  25.1   \n",
       "499          6.0    154.0           74.0      32.000000  193.000000  29.3   \n",
       "500          2.0    117.0           90.0      19.000000   71.000000  25.2   \n",
       "501          3.0     84.0           72.0      32.000000  163.513514  37.2   \n",
       "\n",
       "     DiabetesPedigreeFunction   Age  Outcome  \n",
       "0                       0.627  50.0      1.0  \n",
       "1                       0.351  31.0      0.0  \n",
       "2                       0.672  32.0      1.0  \n",
       "3                       0.167  21.0      0.0  \n",
       "4                       2.288  33.0      1.0  \n",
       "..                        ...   ...      ...  \n",
       "497                     0.547  25.0      0.0  \n",
       "498                     0.163  55.0      1.0  \n",
       "499                     0.839  39.0      0.0  \n",
       "500                     0.313  21.0      0.0  \n",
       "501                     0.267  28.0      0.0  \n",
       "\n",
       "[502 rows x 9 columns]"
      ]
     },
     "execution_count": 25,
     "metadata": {},
     "output_type": "execute_result"
    }
   ],
   "source": [
    "dia_03=pd.DataFrame(dia_03,columns=dia_02.columns)\n",
    "dia_03"
   ]
  },
  {
   "cell_type": "markdown",
   "metadata": {},
   "source": [
    "## StandardScaler(Z_score):"
   ]
  },
  {
   "cell_type": "code",
   "execution_count": 26,
   "metadata": {},
   "outputs": [
    {
     "data": {
      "text/plain": [
       "array([[  6.   , 148.   ,  72.   , ...,   0.627,  50.   ,   1.   ],\n",
       "       [  1.   ,  85.   ,  66.   , ...,   0.351,  31.   ,   0.   ],\n",
       "       [  8.   , 183.   ,  64.   , ...,   0.672,  32.   ,   1.   ],\n",
       "       ...,\n",
       "       [  6.   , 154.   ,  74.   , ...,   0.839,  39.   ,   0.   ],\n",
       "       [  2.   , 117.   ,  90.   , ...,   0.313,  21.   ,   0.   ],\n",
       "       [  3.   ,  84.   ,  72.   , ...,   0.267,  28.   ,   0.   ]])"
      ]
     },
     "execution_count": 26,
     "metadata": {},
     "output_type": "execute_result"
    }
   ],
   "source": [
    "dia_ss_03=dia_03.to_numpy()\n",
    "dia_ss_03"
   ]
  },
  {
   "cell_type": "code",
   "execution_count": 27,
   "metadata": {},
   "outputs": [
    {
     "data": {
      "text/html": [
       "<div>\n",
       "<style scoped>\n",
       "    .dataframe tbody tr th:only-of-type {\n",
       "        vertical-align: middle;\n",
       "    }\n",
       "\n",
       "    .dataframe tbody tr th {\n",
       "        vertical-align: top;\n",
       "    }\n",
       "\n",
       "    .dataframe thead th {\n",
       "        text-align: right;\n",
       "    }\n",
       "</style>\n",
       "<table border=\"1\" class=\"dataframe\">\n",
       "  <thead>\n",
       "    <tr style=\"text-align: right;\">\n",
       "      <th></th>\n",
       "      <th>Pregnancies</th>\n",
       "      <th>Glucose</th>\n",
       "      <th>BloodPressure</th>\n",
       "      <th>SkinThickness</th>\n",
       "      <th>Insulin</th>\n",
       "      <th>BMI</th>\n",
       "      <th>DiabetesPedigreeFunction</th>\n",
       "      <th>Age</th>\n",
       "      <th>Outcome</th>\n",
       "    </tr>\n",
       "  </thead>\n",
       "  <tbody>\n",
       "    <tr>\n",
       "      <th>0</th>\n",
       "      <td>0.658827</td>\n",
       "      <td>0.787296</td>\n",
       "      <td>-0.022489</td>\n",
       "      <td>0.710169</td>\n",
       "      <td>0.000000</td>\n",
       "      <td>0.153840</td>\n",
       "      <td>0.410565</td>\n",
       "      <td>1.402872</td>\n",
       "      <td>1.345423</td>\n",
       "    </tr>\n",
       "    <tr>\n",
       "      <th>1</th>\n",
       "      <td>-0.840407</td>\n",
       "      <td>-1.173535</td>\n",
       "      <td>-0.532233</td>\n",
       "      <td>0.011127</td>\n",
       "      <td>0.000000</td>\n",
       "      <td>-0.831880</td>\n",
       "      <td>-0.390056</td>\n",
       "      <td>-0.164487</td>\n",
       "      <td>-0.750738</td>\n",
       "    </tr>\n",
       "    <tr>\n",
       "      <th>2</th>\n",
       "      <td>1.258521</td>\n",
       "      <td>1.876647</td>\n",
       "      <td>-0.702148</td>\n",
       "      <td>0.000000</td>\n",
       "      <td>0.000000</td>\n",
       "      <td>-1.296577</td>\n",
       "      <td>0.541101</td>\n",
       "      <td>-0.081995</td>\n",
       "      <td>1.345423</td>\n",
       "    </tr>\n",
       "    <tr>\n",
       "      <th>3</th>\n",
       "      <td>-0.840407</td>\n",
       "      <td>-1.049038</td>\n",
       "      <td>-0.532233</td>\n",
       "      <td>-0.687915</td>\n",
       "      <td>-0.673741</td>\n",
       "      <td>-0.620655</td>\n",
       "      <td>-0.923804</td>\n",
       "      <td>-0.989413</td>\n",
       "      <td>-0.750738</td>\n",
       "    </tr>\n",
       "    <tr>\n",
       "      <th>4</th>\n",
       "      <td>-1.140254</td>\n",
       "      <td>0.444929</td>\n",
       "      <td>-2.741126</td>\n",
       "      <td>0.710169</td>\n",
       "      <td>0.043484</td>\n",
       "      <td>1.491603</td>\n",
       "      <td>5.228794</td>\n",
       "      <td>0.000498</td>\n",
       "      <td>1.345423</td>\n",
       "    </tr>\n",
       "    <tr>\n",
       "      <th>...</th>\n",
       "      <td>...</td>\n",
       "      <td>...</td>\n",
       "      <td>...</td>\n",
       "      <td>...</td>\n",
       "      <td>...</td>\n",
       "      <td>...</td>\n",
       "      <td>...</td>\n",
       "      <td>...</td>\n",
       "      <td>...</td>\n",
       "    </tr>\n",
       "    <tr>\n",
       "      <th>497</th>\n",
       "      <td>-0.540561</td>\n",
       "      <td>-1.298033</td>\n",
       "      <td>-0.022489</td>\n",
       "      <td>-1.619972</td>\n",
       "      <td>-0.848201</td>\n",
       "      <td>-0.339020</td>\n",
       "      <td>0.178501</td>\n",
       "      <td>-0.659443</td>\n",
       "      <td>-0.750738</td>\n",
       "    </tr>\n",
       "    <tr>\n",
       "      <th>498</th>\n",
       "      <td>0.958674</td>\n",
       "      <td>2.250139</td>\n",
       "      <td>-0.192404</td>\n",
       "      <td>0.477155</td>\n",
       "      <td>-0.179437</td>\n",
       "      <td>-1.043106</td>\n",
       "      <td>-0.935407</td>\n",
       "      <td>1.815335</td>\n",
       "      <td>1.345423</td>\n",
       "    </tr>\n",
       "    <tr>\n",
       "      <th>499</th>\n",
       "      <td>0.658827</td>\n",
       "      <td>0.974042</td>\n",
       "      <td>0.147426</td>\n",
       "      <td>0.360648</td>\n",
       "      <td>0.285790</td>\n",
       "      <td>-0.451674</td>\n",
       "      <td>1.025534</td>\n",
       "      <td>0.495454</td>\n",
       "      <td>-0.750738</td>\n",
       "    </tr>\n",
       "    <tr>\n",
       "      <th>500</th>\n",
       "      <td>-0.540561</td>\n",
       "      <td>-0.177557</td>\n",
       "      <td>1.506745</td>\n",
       "      <td>-1.153944</td>\n",
       "      <td>-0.896662</td>\n",
       "      <td>-1.029024</td>\n",
       "      <td>-0.500287</td>\n",
       "      <td>-0.989413</td>\n",
       "      <td>-0.750738</td>\n",
       "    </tr>\n",
       "    <tr>\n",
       "      <th>501</th>\n",
       "      <td>-0.240714</td>\n",
       "      <td>-1.204660</td>\n",
       "      <td>-0.022489</td>\n",
       "      <td>0.360648</td>\n",
       "      <td>0.000000</td>\n",
       "      <td>0.660782</td>\n",
       "      <td>-0.633724</td>\n",
       "      <td>-0.411965</td>\n",
       "      <td>-0.750738</td>\n",
       "    </tr>\n",
       "  </tbody>\n",
       "</table>\n",
       "<p>502 rows × 9 columns</p>\n",
       "</div>"
      ],
      "text/plain": [
       "     Pregnancies   Glucose  BloodPressure  SkinThickness   Insulin       BMI  \\\n",
       "0       0.658827  0.787296      -0.022489       0.710169  0.000000  0.153840   \n",
       "1      -0.840407 -1.173535      -0.532233       0.011127  0.000000 -0.831880   \n",
       "2       1.258521  1.876647      -0.702148       0.000000  0.000000 -1.296577   \n",
       "3      -0.840407 -1.049038      -0.532233      -0.687915 -0.673741 -0.620655   \n",
       "4      -1.140254  0.444929      -2.741126       0.710169  0.043484  1.491603   \n",
       "..           ...       ...            ...            ...       ...       ...   \n",
       "497    -0.540561 -1.298033      -0.022489      -1.619972 -0.848201 -0.339020   \n",
       "498     0.958674  2.250139      -0.192404       0.477155 -0.179437 -1.043106   \n",
       "499     0.658827  0.974042       0.147426       0.360648  0.285790 -0.451674   \n",
       "500    -0.540561 -0.177557       1.506745      -1.153944 -0.896662 -1.029024   \n",
       "501    -0.240714 -1.204660      -0.022489       0.360648  0.000000  0.660782   \n",
       "\n",
       "     DiabetesPedigreeFunction       Age   Outcome  \n",
       "0                    0.410565  1.402872  1.345423  \n",
       "1                   -0.390056 -0.164487 -0.750738  \n",
       "2                    0.541101 -0.081995  1.345423  \n",
       "3                   -0.923804 -0.989413 -0.750738  \n",
       "4                    5.228794  0.000498  1.345423  \n",
       "..                        ...       ...       ...  \n",
       "497                  0.178501 -0.659443 -0.750738  \n",
       "498                 -0.935407  1.815335  1.345423  \n",
       "499                  1.025534  0.495454 -0.750738  \n",
       "500                 -0.500287 -0.989413 -0.750738  \n",
       "501                 -0.633724 -0.411965 -0.750738  \n",
       "\n",
       "[502 rows x 9 columns]"
      ]
     },
     "execution_count": 27,
     "metadata": {},
     "output_type": "execute_result"
    }
   ],
   "source": [
    "scaler = sk.StandardScaler()\n",
    "dia_ss_03=scaler.fit_transform(dia_ss_03)\n",
    "dia_ss_03=pd.DataFrame(dia_ss_03,columns=dia_02.columns)\n",
    "dia_ss_03"
   ]
  },
  {
   "cell_type": "markdown",
   "metadata": {},
   "source": [
    "## Normalize:"
   ]
  },
  {
   "cell_type": "code",
   "execution_count": 29,
   "metadata": {},
   "outputs": [
    {
     "data": {
      "text/plain": [
       "array([[  6.   , 148.   ,  72.   , ...,   0.627,  50.   ,   1.   ],\n",
       "       [  1.   ,  85.   ,  66.   , ...,   0.351,  31.   ,   0.   ],\n",
       "       [  8.   , 183.   ,  64.   , ...,   0.672,  32.   ,   1.   ],\n",
       "       ...,\n",
       "       [  6.   , 154.   ,  74.   , ...,   0.839,  39.   ,   0.   ],\n",
       "       [  2.   , 117.   ,  90.   , ...,   0.313,  21.   ,   0.   ],\n",
       "       [  3.   ,  84.   ,  72.   , ...,   0.267,  28.   ,   0.   ]])"
      ]
     },
     "execution_count": 29,
     "metadata": {},
     "output_type": "execute_result"
    }
   ],
   "source": [
    "dia_n_03=dia_03.to_numpy()\n",
    "dia_n_03"
   ]
  },
  {
   "cell_type": "code",
   "execution_count": 30,
   "metadata": {},
   "outputs": [
    {
     "data": {
      "text/html": [
       "<div>\n",
       "<style scoped>\n",
       "    .dataframe tbody tr th:only-of-type {\n",
       "        vertical-align: middle;\n",
       "    }\n",
       "\n",
       "    .dataframe tbody tr th {\n",
       "        vertical-align: top;\n",
       "    }\n",
       "\n",
       "    .dataframe thead th {\n",
       "        text-align: right;\n",
       "    }\n",
       "</style>\n",
       "<table border=\"1\" class=\"dataframe\">\n",
       "  <thead>\n",
       "    <tr style=\"text-align: right;\">\n",
       "      <th></th>\n",
       "      <th>Pregnancies</th>\n",
       "      <th>Glucose</th>\n",
       "      <th>BloodPressure</th>\n",
       "      <th>SkinThickness</th>\n",
       "      <th>Insulin</th>\n",
       "      <th>BMI</th>\n",
       "      <th>DiabetesPedigreeFunction</th>\n",
       "      <th>Age</th>\n",
       "      <th>Outcome</th>\n",
       "    </tr>\n",
       "  </thead>\n",
       "  <tbody>\n",
       "    <tr>\n",
       "      <th>0</th>\n",
       "      <td>0.024761</td>\n",
       "      <td>0.610778</td>\n",
       "      <td>0.297135</td>\n",
       "      <td>0.144441</td>\n",
       "      <td>0.674800</td>\n",
       "      <td>0.138663</td>\n",
       "      <td>0.002588</td>\n",
       "      <td>0.206344</td>\n",
       "      <td>0.004127</td>\n",
       "    </tr>\n",
       "    <tr>\n",
       "      <th>1</th>\n",
       "      <td>0.004949</td>\n",
       "      <td>0.420667</td>\n",
       "      <td>0.326635</td>\n",
       "      <td>0.143522</td>\n",
       "      <td>0.809231</td>\n",
       "      <td>0.131644</td>\n",
       "      <td>0.001737</td>\n",
       "      <td>0.153420</td>\n",
       "      <td>0.000000</td>\n",
       "    </tr>\n",
       "    <tr>\n",
       "      <th>2</th>\n",
       "      <td>0.030955</td>\n",
       "      <td>0.708104</td>\n",
       "      <td>0.247643</td>\n",
       "      <td>0.111844</td>\n",
       "      <td>0.632703</td>\n",
       "      <td>0.090158</td>\n",
       "      <td>0.002600</td>\n",
       "      <td>0.123821</td>\n",
       "      <td>0.003869</td>\n",
       "    </tr>\n",
       "    <tr>\n",
       "      <th>3</th>\n",
       "      <td>0.006612</td>\n",
       "      <td>0.588467</td>\n",
       "      <td>0.436392</td>\n",
       "      <td>0.152076</td>\n",
       "      <td>0.621527</td>\n",
       "      <td>0.185797</td>\n",
       "      <td>0.001104</td>\n",
       "      <td>0.138852</td>\n",
       "      <td>0.000000</td>\n",
       "    </tr>\n",
       "    <tr>\n",
       "      <th>4</th>\n",
       "      <td>0.000000</td>\n",
       "      <td>0.596381</td>\n",
       "      <td>0.174126</td>\n",
       "      <td>0.152360</td>\n",
       "      <td>0.731328</td>\n",
       "      <td>0.187620</td>\n",
       "      <td>0.009960</td>\n",
       "      <td>0.143654</td>\n",
       "      <td>0.004353</td>\n",
       "    </tr>\n",
       "    <tr>\n",
       "      <th>...</th>\n",
       "      <td>...</td>\n",
       "      <td>...</td>\n",
       "      <td>...</td>\n",
       "      <td>...</td>\n",
       "      <td>...</td>\n",
       "      <td>...</td>\n",
       "      <td>...</td>\n",
       "      <td>...</td>\n",
       "      <td>...</td>\n",
       "    </tr>\n",
       "    <tr>\n",
       "      <th>497</th>\n",
       "      <td>0.014403</td>\n",
       "      <td>0.583333</td>\n",
       "      <td>0.518518</td>\n",
       "      <td>0.108025</td>\n",
       "      <td>0.547325</td>\n",
       "      <td>0.216770</td>\n",
       "      <td>0.003939</td>\n",
       "      <td>0.180041</td>\n",
       "      <td>0.000000</td>\n",
       "    </tr>\n",
       "    <tr>\n",
       "      <th>498</th>\n",
       "      <td>0.026698</td>\n",
       "      <td>0.743733</td>\n",
       "      <td>0.266981</td>\n",
       "      <td>0.125863</td>\n",
       "      <td>0.553032</td>\n",
       "      <td>0.095732</td>\n",
       "      <td>0.000622</td>\n",
       "      <td>0.209771</td>\n",
       "      <td>0.003814</td>\n",
       "    </tr>\n",
       "    <tr>\n",
       "      <th>499</th>\n",
       "      <td>0.022697</td>\n",
       "      <td>0.582560</td>\n",
       "      <td>0.279931</td>\n",
       "      <td>0.121051</td>\n",
       "      <td>0.730091</td>\n",
       "      <td>0.110838</td>\n",
       "      <td>0.003174</td>\n",
       "      <td>0.147531</td>\n",
       "      <td>0.000000</td>\n",
       "    </tr>\n",
       "    <tr>\n",
       "      <th>500</th>\n",
       "      <td>0.011895</td>\n",
       "      <td>0.695848</td>\n",
       "      <td>0.535267</td>\n",
       "      <td>0.113001</td>\n",
       "      <td>0.422267</td>\n",
       "      <td>0.149875</td>\n",
       "      <td>0.001862</td>\n",
       "      <td>0.124896</td>\n",
       "      <td>0.000000</td>\n",
       "    </tr>\n",
       "    <tr>\n",
       "      <th>501</th>\n",
       "      <td>0.014608</td>\n",
       "      <td>0.409014</td>\n",
       "      <td>0.350584</td>\n",
       "      <td>0.155815</td>\n",
       "      <td>0.796183</td>\n",
       "      <td>0.181135</td>\n",
       "      <td>0.001300</td>\n",
       "      <td>0.136338</td>\n",
       "      <td>0.000000</td>\n",
       "    </tr>\n",
       "  </tbody>\n",
       "</table>\n",
       "<p>502 rows × 9 columns</p>\n",
       "</div>"
      ],
      "text/plain": [
       "     Pregnancies   Glucose  BloodPressure  SkinThickness   Insulin       BMI  \\\n",
       "0       0.024761  0.610778       0.297135       0.144441  0.674800  0.138663   \n",
       "1       0.004949  0.420667       0.326635       0.143522  0.809231  0.131644   \n",
       "2       0.030955  0.708104       0.247643       0.111844  0.632703  0.090158   \n",
       "3       0.006612  0.588467       0.436392       0.152076  0.621527  0.185797   \n",
       "4       0.000000  0.596381       0.174126       0.152360  0.731328  0.187620   \n",
       "..           ...       ...            ...            ...       ...       ...   \n",
       "497     0.014403  0.583333       0.518518       0.108025  0.547325  0.216770   \n",
       "498     0.026698  0.743733       0.266981       0.125863  0.553032  0.095732   \n",
       "499     0.022697  0.582560       0.279931       0.121051  0.730091  0.110838   \n",
       "500     0.011895  0.695848       0.535267       0.113001  0.422267  0.149875   \n",
       "501     0.014608  0.409014       0.350584       0.155815  0.796183  0.181135   \n",
       "\n",
       "     DiabetesPedigreeFunction       Age   Outcome  \n",
       "0                    0.002588  0.206344  0.004127  \n",
       "1                    0.001737  0.153420  0.000000  \n",
       "2                    0.002600  0.123821  0.003869  \n",
       "3                    0.001104  0.138852  0.000000  \n",
       "4                    0.009960  0.143654  0.004353  \n",
       "..                        ...       ...       ...  \n",
       "497                  0.003939  0.180041  0.000000  \n",
       "498                  0.000622  0.209771  0.003814  \n",
       "499                  0.003174  0.147531  0.000000  \n",
       "500                  0.001862  0.124896  0.000000  \n",
       "501                  0.001300  0.136338  0.000000  \n",
       "\n",
       "[502 rows x 9 columns]"
      ]
     },
     "execution_count": 30,
     "metadata": {},
     "output_type": "execute_result"
    }
   ],
   "source": [
    "dia_n_03 = sk.normalize(dia_n_03)\n",
    "dia_n_03=pd.DataFrame(dia_n_03,columns=dia_02.columns)\n",
    "dia_n_03"
   ]
  },
  {
   "cell_type": "markdown",
   "metadata": {},
   "source": [
    "## minmaxscaler():"
   ]
  },
  {
   "cell_type": "code",
   "execution_count": 31,
   "metadata": {},
   "outputs": [
    {
     "data": {
      "text/plain": [
       "array([[  6.   , 148.   ,  72.   , ...,   0.627,  50.   ,   1.   ],\n",
       "       [  1.   ,  85.   ,  66.   , ...,   0.351,  31.   ,   0.   ],\n",
       "       [  8.   , 183.   ,  64.   , ...,   0.672,  32.   ,   1.   ],\n",
       "       ...,\n",
       "       [  6.   , 154.   ,  74.   , ...,   0.839,  39.   ,   0.   ],\n",
       "       [  2.   , 117.   ,  90.   , ...,   0.313,  21.   ,   0.   ],\n",
       "       [  3.   ,  84.   ,  72.   , ...,   0.267,  28.   ,   0.   ]])"
      ]
     },
     "execution_count": 31,
     "metadata": {},
     "output_type": "execute_result"
    }
   ],
   "source": [
    "dia_mms_03=dia_03.to_numpy()\n",
    "dia_mms_03"
   ]
  },
  {
   "cell_type": "code",
   "execution_count": 32,
   "metadata": {},
   "outputs": [
    {
     "data": {
      "text/html": [
       "<div>\n",
       "<style scoped>\n",
       "    .dataframe tbody tr th:only-of-type {\n",
       "        vertical-align: middle;\n",
       "    }\n",
       "\n",
       "    .dataframe tbody tr th {\n",
       "        vertical-align: top;\n",
       "    }\n",
       "\n",
       "    .dataframe thead th {\n",
       "        text-align: right;\n",
       "    }\n",
       "</style>\n",
       "<table border=\"1\" class=\"dataframe\">\n",
       "  <thead>\n",
       "    <tr style=\"text-align: right;\">\n",
       "      <th></th>\n",
       "      <th>Pregnancies</th>\n",
       "      <th>Glucose</th>\n",
       "      <th>BloodPressure</th>\n",
       "      <th>SkinThickness</th>\n",
       "      <th>Insulin</th>\n",
       "      <th>BMI</th>\n",
       "      <th>DiabetesPedigreeFunction</th>\n",
       "      <th>Age</th>\n",
       "      <th>Outcome</th>\n",
       "    </tr>\n",
       "  </thead>\n",
       "  <tbody>\n",
       "    <tr>\n",
       "      <th>0</th>\n",
       "      <td>0.352941</td>\n",
       "      <td>0.472222</td>\n",
       "      <td>0.456522</td>\n",
       "      <td>0.500000</td>\n",
       "      <td>0.158048</td>\n",
       "      <td>0.314928</td>\n",
       "      <td>0.234415</td>\n",
       "      <td>0.500000</td>\n",
       "      <td>1.0</td>\n",
       "    </tr>\n",
       "    <tr>\n",
       "      <th>1</th>\n",
       "      <td>0.058824</td>\n",
       "      <td>0.253472</td>\n",
       "      <td>0.391304</td>\n",
       "      <td>0.392857</td>\n",
       "      <td>0.158048</td>\n",
       "      <td>0.171779</td>\n",
       "      <td>0.116567</td>\n",
       "      <td>0.306122</td>\n",
       "      <td>0.0</td>\n",
       "    </tr>\n",
       "    <tr>\n",
       "      <th>2</th>\n",
       "      <td>0.470588</td>\n",
       "      <td>0.593750</td>\n",
       "      <td>0.369565</td>\n",
       "      <td>0.391152</td>\n",
       "      <td>0.158048</td>\n",
       "      <td>0.104294</td>\n",
       "      <td>0.253629</td>\n",
       "      <td>0.316327</td>\n",
       "      <td>1.0</td>\n",
       "    </tr>\n",
       "    <tr>\n",
       "      <th>3</th>\n",
       "      <td>0.058824</td>\n",
       "      <td>0.267361</td>\n",
       "      <td>0.391304</td>\n",
       "      <td>0.285714</td>\n",
       "      <td>0.084567</td>\n",
       "      <td>0.202454</td>\n",
       "      <td>0.038002</td>\n",
       "      <td>0.204082</td>\n",
       "      <td>0.0</td>\n",
       "    </tr>\n",
       "    <tr>\n",
       "      <th>4</th>\n",
       "      <td>0.000000</td>\n",
       "      <td>0.434028</td>\n",
       "      <td>0.108696</td>\n",
       "      <td>0.500000</td>\n",
       "      <td>0.162791</td>\n",
       "      <td>0.509202</td>\n",
       "      <td>0.943638</td>\n",
       "      <td>0.326531</td>\n",
       "      <td>1.0</td>\n",
       "    </tr>\n",
       "    <tr>\n",
       "      <th>...</th>\n",
       "      <td>...</td>\n",
       "      <td>...</td>\n",
       "      <td>...</td>\n",
       "      <td>...</td>\n",
       "      <td>...</td>\n",
       "      <td>...</td>\n",
       "      <td>...</td>\n",
       "      <td>...</td>\n",
       "      <td>...</td>\n",
       "    </tr>\n",
       "    <tr>\n",
       "      <th>497</th>\n",
       "      <td>0.117647</td>\n",
       "      <td>0.239583</td>\n",
       "      <td>0.456522</td>\n",
       "      <td>0.142857</td>\n",
       "      <td>0.065539</td>\n",
       "      <td>0.243354</td>\n",
       "      <td>0.200256</td>\n",
       "      <td>0.244898</td>\n",
       "      <td>0.0</td>\n",
       "    </tr>\n",
       "    <tr>\n",
       "      <th>498</th>\n",
       "      <td>0.411765</td>\n",
       "      <td>0.635417</td>\n",
       "      <td>0.434783</td>\n",
       "      <td>0.464286</td>\n",
       "      <td>0.138478</td>\n",
       "      <td>0.141104</td>\n",
       "      <td>0.036294</td>\n",
       "      <td>0.551020</td>\n",
       "      <td>1.0</td>\n",
       "    </tr>\n",
       "    <tr>\n",
       "      <th>499</th>\n",
       "      <td>0.352941</td>\n",
       "      <td>0.493056</td>\n",
       "      <td>0.478261</td>\n",
       "      <td>0.446429</td>\n",
       "      <td>0.189218</td>\n",
       "      <td>0.226994</td>\n",
       "      <td>0.324936</td>\n",
       "      <td>0.387755</td>\n",
       "      <td>0.0</td>\n",
       "    </tr>\n",
       "    <tr>\n",
       "      <th>500</th>\n",
       "      <td>0.117647</td>\n",
       "      <td>0.364583</td>\n",
       "      <td>0.652174</td>\n",
       "      <td>0.214286</td>\n",
       "      <td>0.060254</td>\n",
       "      <td>0.143149</td>\n",
       "      <td>0.100342</td>\n",
       "      <td>0.204082</td>\n",
       "      <td>0.0</td>\n",
       "    </tr>\n",
       "    <tr>\n",
       "      <th>501</th>\n",
       "      <td>0.176471</td>\n",
       "      <td>0.250000</td>\n",
       "      <td>0.456522</td>\n",
       "      <td>0.446429</td>\n",
       "      <td>0.158048</td>\n",
       "      <td>0.388548</td>\n",
       "      <td>0.080700</td>\n",
       "      <td>0.275510</td>\n",
       "      <td>0.0</td>\n",
       "    </tr>\n",
       "  </tbody>\n",
       "</table>\n",
       "<p>502 rows × 9 columns</p>\n",
       "</div>"
      ],
      "text/plain": [
       "     Pregnancies   Glucose  BloodPressure  SkinThickness   Insulin       BMI  \\\n",
       "0       0.352941  0.472222       0.456522       0.500000  0.158048  0.314928   \n",
       "1       0.058824  0.253472       0.391304       0.392857  0.158048  0.171779   \n",
       "2       0.470588  0.593750       0.369565       0.391152  0.158048  0.104294   \n",
       "3       0.058824  0.267361       0.391304       0.285714  0.084567  0.202454   \n",
       "4       0.000000  0.434028       0.108696       0.500000  0.162791  0.509202   \n",
       "..           ...       ...            ...            ...       ...       ...   \n",
       "497     0.117647  0.239583       0.456522       0.142857  0.065539  0.243354   \n",
       "498     0.411765  0.635417       0.434783       0.464286  0.138478  0.141104   \n",
       "499     0.352941  0.493056       0.478261       0.446429  0.189218  0.226994   \n",
       "500     0.117647  0.364583       0.652174       0.214286  0.060254  0.143149   \n",
       "501     0.176471  0.250000       0.456522       0.446429  0.158048  0.388548   \n",
       "\n",
       "     DiabetesPedigreeFunction       Age  Outcome  \n",
       "0                    0.234415  0.500000      1.0  \n",
       "1                    0.116567  0.306122      0.0  \n",
       "2                    0.253629  0.316327      1.0  \n",
       "3                    0.038002  0.204082      0.0  \n",
       "4                    0.943638  0.326531      1.0  \n",
       "..                        ...       ...      ...  \n",
       "497                  0.200256  0.244898      0.0  \n",
       "498                  0.036294  0.551020      1.0  \n",
       "499                  0.324936  0.387755      0.0  \n",
       "500                  0.100342  0.204082      0.0  \n",
       "501                  0.080700  0.275510      0.0  \n",
       "\n",
       "[502 rows x 9 columns]"
      ]
     },
     "execution_count": 32,
     "metadata": {},
     "output_type": "execute_result"
    }
   ],
   "source": [
    "scaler = sk.MinMaxScaler()\n",
    "dia_mms_03=scaler.fit_transform(dia_mms_03)\n",
    "dia_mms_03=pd.DataFrame(dia_mms_03,columns=dia_02.columns)\n",
    "dia_mms_03"
   ]
  },
  {
   "cell_type": "code",
   "execution_count": 39,
   "metadata": {},
   "outputs": [
    {
     "data": {
      "text/plain": [
       "Text(0.5, 1.0, 'minmaxscaler,Glucose')"
      ]
     },
     "execution_count": 39,
     "metadata": {},
     "output_type": "execute_result"
    },
    {
     "data": {
      "image/png": "[encoded data removed]",
      "text/plain": [
       "<Figure size 720x1080 with 3 Axes>"
      ]
     },
     "metadata": {
      "needs_background": "light"
     },
     "output_type": "display_data"
    }
   ],
   "source": [
    "fig, axs = plt.subplots(3,figsize=(10,15))\n",
    "fig.suptitle('lets double check')\n",
    "axs[0].hist(dia_ss_03['Glucose'])\n",
    "axs[0].set_title(\"StandardScaler(Z_score),Glucose\")\n",
    "axs[1].hist(dia_n_03[\"Glucose\"])\n",
    "axs[1].set_title(\"Normalize,Glucose\")\n",
    "axs[2].hist(dia_mms_03[\"Glucose\"])\n",
    "axs[2].set_title(\"minmaxscaler,Glucose\")"
   ]
  },
  {
   "cell_type": "markdown",
   "metadata": {},
   "source": [
    "Normalization is the process of scaling individual samples to have unit norm.\n",
    "\n",
    "normalize handled the left skewness but created the right skewness instead.\n",
    "minmaxscaler() on other hand still have the left skewness but its intense is decreased alot.\n",
    "so normalaze may change the behaivor of data in the opposite way."
   ]
  },
  {
   "cell_type": "markdown",
   "metadata": {},
   "source": [
    "## difference between the standardscaler and normalize:\n",
    "The standard score of a sample x is calculated as:\n",
    "\n",
    "z = (x - u) / s\n",
    "\n",
    "where u is the mean of the training samples or zero if with_mean=False, and s is the standard deviation of the training samples or one if with_std=False.\n",
    "\n",
    "while normalize is :\n",
    "\n",
    "Scale input vectors individually to unit norm (vector length)."
   ]
  }
 ],
 "metadata": {
  "kernelspec": {
   "display_name": "Python 3",
   "language": "python",
   "name": "python3"
  },
  "language_info": {
   "codemirror_mode": {
    "name": "ipython",
    "version": 3
   },
   "file_extension": ".py",
   "mimetype": "text/x-python",
   "name": "python",
   "nbconvert_exporter": "python",
   "pygments_lexer": "ipython3",
   "version": "3.7.7"
  }
 },
 "nbformat": 4,
 "nbformat_minor": 4
}
